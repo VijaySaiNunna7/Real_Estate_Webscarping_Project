{
 "cells": [
  {
   "cell_type": "code",
   "execution_count": 1,
   "id": "65ee7e67",
   "metadata": {},
   "outputs": [],
   "source": [
    "#pip install requests"
   ]
  },
  {
   "cell_type": "code",
   "execution_count": 2,
   "id": "f27398e6",
   "metadata": {},
   "outputs": [],
   "source": [
    "#pip install BeautifulSoup"
   ]
  },
  {
   "cell_type": "code",
   "execution_count": 3,
   "id": "18b81cec",
   "metadata": {},
   "outputs": [],
   "source": [
    "import requests"
   ]
  },
  {
   "cell_type": "code",
   "execution_count": 4,
   "id": "a7c74431",
   "metadata": {},
   "outputs": [],
   "source": [
    "import bs4"
   ]
  },
  {
   "cell_type": "code",
   "execution_count": 5,
   "id": "11aaa39f",
   "metadata": {},
   "outputs": [],
   "source": [
    "url=\"https://www.makaan.com/hyderabad-residential-property/buy-property-in-hyderabad-city\""
   ]
  },
  {
   "cell_type": "code",
   "execution_count": 6,
   "id": "aa402b17",
   "metadata": {},
   "outputs": [
    {
     "data": {
      "text/plain": [
       "<Response [200]>"
      ]
     },
     "execution_count": 6,
     "metadata": {},
     "output_type": "execute_result"
    }
   ],
   "source": [
    "data=requests.get(url)\n",
    "data"
   ]
  },
  {
   "cell_type": "code",
   "execution_count": 7,
   "id": "2a01e23a",
   "metadata": {},
   "outputs": [
    {
     "data": {
      "text/plain": [
       "str"
      ]
     },
     "execution_count": 7,
     "metadata": {},
     "output_type": "execute_result"
    }
   ],
   "source": [
    "data.text\n",
    "type(data.text)"
   ]
  },
  {
   "cell_type": "code",
   "execution_count": 8,
   "id": "af25b037",
   "metadata": {},
   "outputs": [],
   "source": [
    "from bs4 import BeautifulSoup "
   ]
  },
  {
   "cell_type": "code",
   "execution_count": 9,
   "id": "74dd24dd",
   "metadata": {},
   "outputs": [],
   "source": [
    "soup=BeautifulSoup(data.text,'html')"
   ]
  },
  {
   "cell_type": "code",
   "execution_count": 10,
   "id": "cdbf1a38",
   "metadata": {},
   "outputs": [
    {
     "data": {
      "text/plain": [
       "'3 BHK Apartment in Ecogreen Casa Traimbak'"
      ]
     },
     "execution_count": 10,
     "metadata": {},
     "output_type": "execute_result"
    }
   ],
   "source": [
    "soup.find('div',attrs={\"class\":\"title-line\"}).text"
   ]
  },
  {
   "cell_type": "code",
   "execution_count": 11,
   "id": "311fb69e",
   "metadata": {},
   "outputs": [
    {
     "data": {
      "text/plain": [
       "'Gundlapochampally'"
      ]
     },
     "execution_count": 11,
     "metadata": {},
     "output_type": "execute_result"
    }
   ],
   "source": [
    "soup.find('span',attrs={\"itemprop\":\"addressLocality\"}).text"
   ]
  },
  {
   "cell_type": "code",
   "execution_count": 12,
   "id": "edd1398b",
   "metadata": {},
   "outputs": [
    {
     "data": {
      "text/plain": [
       "' 65.98 L'"
      ]
     },
     "execution_count": 12,
     "metadata": {},
     "output_type": "execute_result"
    }
   ],
   "source": [
    "soup.find('div',attrs={\"data-type\":\"price-link\"}).text"
   ]
  },
  {
   "cell_type": "code",
   "execution_count": 13,
   "id": "60ddf448",
   "metadata": {},
   "outputs": [
    {
     "data": {
      "text/plain": [
       "'1571 '"
      ]
     },
     "execution_count": 13,
     "metadata": {},
     "output_type": "execute_result"
    }
   ],
   "source": [
    "soup.find('td',attrs={\"class\":\"size\"}).text"
   ]
  },
  {
   "cell_type": "code",
   "execution_count": 14,
   "id": "7e2f25b0",
   "metadata": {},
   "outputs": [
    {
     "data": {
      "text/plain": [
       "'Under Construction'"
      ]
     },
     "execution_count": 14,
     "metadata": {},
     "output_type": "execute_result"
    }
   ],
   "source": [
    "soup.find('td',attrs={\"class\":\"val\"}).text"
   ]
  },
  {
   "cell_type": "code",
   "execution_count": 15,
   "id": "b1f42830",
   "metadata": {},
   "outputs": [
    {
     "data": {
      "text/plain": [
       "'4,200 / sq ft'"
      ]
     },
     "execution_count": 15,
     "metadata": {},
     "output_type": "execute_result"
    }
   ],
   "source": [
    "soup.find('td',attrs={\"class\":\"lbl rate\"}).text"
   ]
  },
  {
   "cell_type": "code",
   "execution_count": 16,
   "id": "e9ee1a3e",
   "metadata": {},
   "outputs": [],
   "source": [
    "prop=soup.find_all('div',attrs={\"class\":\"title-line\"})"
   ]
  },
  {
   "cell_type": "code",
   "execution_count": 17,
   "id": "58747c74",
   "metadata": {},
   "outputs": [],
   "source": [
    "prop_name=[]\n",
    "for i in prop:\n",
    "    #print(i.text) #individual prop name\n",
    "    prop_name.append(i.text)"
   ]
  },
  {
   "cell_type": "code",
   "execution_count": 18,
   "id": "8fac054f",
   "metadata": {},
   "outputs": [
    {
     "name": "stdout",
     "output_type": "stream",
     "text": [
      "20\n"
     ]
    }
   ],
   "source": [
    "print(len(prop_name))"
   ]
  },
  {
   "cell_type": "code",
   "execution_count": 19,
   "id": "6beb009a",
   "metadata": {},
   "outputs": [
    {
     "name": "stdout",
     "output_type": "stream",
     "text": [
      "['3 BHK Apartment in Ecogreen Casa Traimbak', '4 BHK Villa in Elemental Village', '4 BHK Villa in Riddhi Laxman County', '4 BHK Villa in APR Praveens Hillside', '4 BHK Villa in Sri GREENTECH O2 Community', '4 BHK Villa in Grenstone Siri Elite', '4 BHK Apartment in Mahaveer Crystal Garden', '4 BHK Apartment in Hallmark Treasor', 'Residential Plot in Beyond Icon Homes', '2 BHK Apartment in Beams 4 Blocks', '3 BHK Apartment in Vajram IXORA', '4 BHK Villa in IRA Realty Hyderabad Elevate Villas', '3 BHK Apartment in Vasavi Nandanam', '3 BHK Apartment in GHR Callisto', '2 BHK Apartment in Aavasa Constructions Emerald', '3 BHK Apartment in Sukhii Ubuntu', '2 BHK Apartment in Risinia The Edge', '2 BHK Apartment in ASBL Springs', '3 BHK Apartment in Om Sree Brilliance', '3 BHK Apartment in SVC SVC Indraprastha']\n"
     ]
    }
   ],
   "source": [
    "prop_name=[i.text for i in prop]\n",
    "print(prop_name)"
   ]
  },
  {
   "cell_type": "code",
   "execution_count": 20,
   "id": "d1ae5bdb",
   "metadata": {},
   "outputs": [
    {
     "name": "stdout",
     "output_type": "stream",
     "text": [
      "['Gundlapochampally', 'Patancheru', 'Tukkuguda', 'Bachupally', 'Ramachandrapuram', 'Maheshwaram', 'Attapur', 'Gandipet', 'Sadashivpet', 'Kompally', 'Gopanpally', 'Mamidipally', 'Jeedimetla', 'Kollur', 'Saroor Nagar', 'Nanakramguda', 'Pragathi Nagar Kukatpally', 'Pocharam', 'Sainikpuri', 'Jeedimetla']\n",
      "20\n"
     ]
    }
   ],
   "source": [
    "a=soup.find_all('span',attrs={\"itemprop\":\"addressLocality\"})\n",
    "location=[i.text for i in a]\n",
    "print(location)\n",
    "print(len(location))"
   ]
  },
  {
   "cell_type": "code",
   "execution_count": 21,
   "id": "a059a8f8",
   "metadata": {},
   "outputs": [
    {
     "name": "stdout",
     "output_type": "stream",
     "text": [
      "[' 65.98 L', ' 1.48 Cr', ' 2.99 Cr', ' 4.08 Cr', ' 1.75 Cr', ' 1.4 Cr', ' 3.52 Cr', ' 4.31 Cr', ' 63 L', ' 73.34 L', ' 1.65 Cr', ' 7.35 Cr', ' 1.08 Cr', ' 94.94 L', ' 85.15 L', ' 1.44 Cr', ' 68.21 L', ' 56.85 L', ' 1.34 Cr', ' 1.02 Cr']\n",
      "20\n"
     ]
    }
   ],
   "source": [
    "a=soup.find_all('div',attrs={\"data-type\":\"price-link\"})\n",
    "price=[i.text for i in a]\n",
    "print(price)\n",
    "print(len(price))"
   ]
  },
  {
   "cell_type": "code",
   "execution_count": 22,
   "id": "e5f3e150",
   "metadata": {},
   "outputs": [
    {
     "name": "stdout",
     "output_type": "stream",
     "text": [
      "['1571 ', '1930 ', '4157 ', '3400 ', '3183 ', '2701 ', '4706 ', '5080 ', '3150 ', '1310 ', '2550 ', '6125 ', '1965 ', '1775 ', '1310 ', '1905 ', '1312 ', '1210 ', '2200 ', '1902 ']\n",
      "20\n"
     ]
    }
   ],
   "source": [
    "a=soup.find_all('td',attrs={\"class\":\"size\"})\n",
    "size=[i.text for i in a]\n",
    "print(size)\n",
    "print(len(size))"
   ]
  },
  {
   "cell_type": "code",
   "execution_count": 23,
   "id": "2c8b70dd",
   "metadata": {},
   "outputs": [
    {
     "name": "stdout",
     "output_type": "stream",
     "text": [
      "['Under Construction', 'Under Construction', 'Under Construction', 'Under Construction', 'Under Construction', 'Under Construction', 'Under Construction', 'Under Construction', 'New', 'Under Construction', 'Under Construction', 'Under Construction', 'Under Construction', 'Under Construction', 'Under Construction', 'Under Construction', 'Under Construction', 'Under Construction', 'Under Construction', 'Under Construction']\n",
      "20\n"
     ]
    }
   ],
   "source": [
    "a=soup.find_all('td',attrs={\"class\":\"val\"})\n",
    "val=[i.text for i in a]\n",
    "print(val)\n",
    "print(len(val))"
   ]
  },
  {
   "cell_type": "code",
   "execution_count": 24,
   "id": "6b5c42a7",
   "metadata": {},
   "outputs": [
    {
     "name": "stdout",
     "output_type": "stream",
     "text": [
      "['4,200 / sq ft', '7,700 / sq ft', '7,200 / sq ft', '12,000 / sq ft', '5,500 / sq ft', '5,200 / sq ft', '7,500 / sq ft', '8,499 / sq ft', '2,000 / sq ft', '5,599 / sq ft', '6,499 / sq ft', '12,000 / sq ft', '5,500 / sq ft', '5,349 / sq ft', '6,500 / sq ft', '7,599 / sq ft', '5,199 / sq ft', '4,699 / sq ft', '6,100 / sq ft', '5,400 / sq ft']\n",
      "20\n"
     ]
    }
   ],
   "source": [
    "a=soup.find_all('td',attrs={\"class\":\"lbl rate\"})\n",
    "sqft=[i.text for i in a]\n",
    "print(sqft)\n",
    "print(len(sqft))"
   ]
  },
  {
   "cell_type": "code",
   "execution_count": 25,
   "id": "1b7d5d96",
   "metadata": {},
   "outputs": [],
   "source": [
    "import pandas as pd"
   ]
  },
  {
   "cell_type": "code",
   "execution_count": 26,
   "id": "71022da6",
   "metadata": {},
   "outputs": [],
   "source": [
    "data=pd.DataFrame({\"prop_name\":prop_name,\"location\":location,\"price\":price,\"size\":size,\"val\":val,\"sqft\":sqft})"
   ]
  },
  {
   "cell_type": "code",
   "execution_count": 27,
   "id": "3560ba02",
   "metadata": {},
   "outputs": [
    {
     "data": {
      "text/html": [
       "<div>\n",
       "<style scoped>\n",
       "    .dataframe tbody tr th:only-of-type {\n",
       "        vertical-align: middle;\n",
       "    }\n",
       "\n",
       "    .dataframe tbody tr th {\n",
       "        vertical-align: top;\n",
       "    }\n",
       "\n",
       "    .dataframe thead th {\n",
       "        text-align: right;\n",
       "    }\n",
       "</style>\n",
       "<table border=\"1\" class=\"dataframe\">\n",
       "  <thead>\n",
       "    <tr style=\"text-align: right;\">\n",
       "      <th></th>\n",
       "      <th>prop_name</th>\n",
       "      <th>location</th>\n",
       "      <th>price</th>\n",
       "      <th>size</th>\n",
       "      <th>val</th>\n",
       "      <th>sqft</th>\n",
       "    </tr>\n",
       "  </thead>\n",
       "  <tbody>\n",
       "    <tr>\n",
       "      <th>0</th>\n",
       "      <td>3 BHK Apartment in Ecogreen Casa Traimbak</td>\n",
       "      <td>Gundlapochampally</td>\n",
       "      <td>65.98 L</td>\n",
       "      <td>1571</td>\n",
       "      <td>Under Construction</td>\n",
       "      <td>4,200 / sq ft</td>\n",
       "    </tr>\n",
       "    <tr>\n",
       "      <th>1</th>\n",
       "      <td>4 BHK Villa in Elemental Village</td>\n",
       "      <td>Patancheru</td>\n",
       "      <td>1.48 Cr</td>\n",
       "      <td>1930</td>\n",
       "      <td>Under Construction</td>\n",
       "      <td>7,700 / sq ft</td>\n",
       "    </tr>\n",
       "    <tr>\n",
       "      <th>2</th>\n",
       "      <td>4 BHK Villa in Riddhi Laxman County</td>\n",
       "      <td>Tukkuguda</td>\n",
       "      <td>2.99 Cr</td>\n",
       "      <td>4157</td>\n",
       "      <td>Under Construction</td>\n",
       "      <td>7,200 / sq ft</td>\n",
       "    </tr>\n",
       "    <tr>\n",
       "      <th>3</th>\n",
       "      <td>4 BHK Villa in APR Praveens Hillside</td>\n",
       "      <td>Bachupally</td>\n",
       "      <td>4.08 Cr</td>\n",
       "      <td>3400</td>\n",
       "      <td>Under Construction</td>\n",
       "      <td>12,000 / sq ft</td>\n",
       "    </tr>\n",
       "    <tr>\n",
       "      <th>4</th>\n",
       "      <td>4 BHK Villa in Sri GREENTECH O2 Community</td>\n",
       "      <td>Ramachandrapuram</td>\n",
       "      <td>1.75 Cr</td>\n",
       "      <td>3183</td>\n",
       "      <td>Under Construction</td>\n",
       "      <td>5,500 / sq ft</td>\n",
       "    </tr>\n",
       "    <tr>\n",
       "      <th>5</th>\n",
       "      <td>4 BHK Villa in Grenstone Siri Elite</td>\n",
       "      <td>Maheshwaram</td>\n",
       "      <td>1.4 Cr</td>\n",
       "      <td>2701</td>\n",
       "      <td>Under Construction</td>\n",
       "      <td>5,200 / sq ft</td>\n",
       "    </tr>\n",
       "    <tr>\n",
       "      <th>6</th>\n",
       "      <td>4 BHK Apartment in Mahaveer Crystal Garden</td>\n",
       "      <td>Attapur</td>\n",
       "      <td>3.52 Cr</td>\n",
       "      <td>4706</td>\n",
       "      <td>Under Construction</td>\n",
       "      <td>7,500 / sq ft</td>\n",
       "    </tr>\n",
       "    <tr>\n",
       "      <th>7</th>\n",
       "      <td>4 BHK Apartment in Hallmark Treasor</td>\n",
       "      <td>Gandipet</td>\n",
       "      <td>4.31 Cr</td>\n",
       "      <td>5080</td>\n",
       "      <td>Under Construction</td>\n",
       "      <td>8,499 / sq ft</td>\n",
       "    </tr>\n",
       "    <tr>\n",
       "      <th>8</th>\n",
       "      <td>Residential Plot in Beyond Icon Homes</td>\n",
       "      <td>Sadashivpet</td>\n",
       "      <td>63 L</td>\n",
       "      <td>3150</td>\n",
       "      <td>New</td>\n",
       "      <td>2,000 / sq ft</td>\n",
       "    </tr>\n",
       "    <tr>\n",
       "      <th>9</th>\n",
       "      <td>2 BHK Apartment in Beams 4 Blocks</td>\n",
       "      <td>Kompally</td>\n",
       "      <td>73.34 L</td>\n",
       "      <td>1310</td>\n",
       "      <td>Under Construction</td>\n",
       "      <td>5,599 / sq ft</td>\n",
       "    </tr>\n",
       "    <tr>\n",
       "      <th>10</th>\n",
       "      <td>3 BHK Apartment in Vajram IXORA</td>\n",
       "      <td>Gopanpally</td>\n",
       "      <td>1.65 Cr</td>\n",
       "      <td>2550</td>\n",
       "      <td>Under Construction</td>\n",
       "      <td>6,499 / sq ft</td>\n",
       "    </tr>\n",
       "    <tr>\n",
       "      <th>11</th>\n",
       "      <td>4 BHK Villa in IRA Realty Hyderabad Elevate Vi...</td>\n",
       "      <td>Mamidipally</td>\n",
       "      <td>7.35 Cr</td>\n",
       "      <td>6125</td>\n",
       "      <td>Under Construction</td>\n",
       "      <td>12,000 / sq ft</td>\n",
       "    </tr>\n",
       "    <tr>\n",
       "      <th>12</th>\n",
       "      <td>3 BHK Apartment in Vasavi Nandanam</td>\n",
       "      <td>Jeedimetla</td>\n",
       "      <td>1.08 Cr</td>\n",
       "      <td>1965</td>\n",
       "      <td>Under Construction</td>\n",
       "      <td>5,500 / sq ft</td>\n",
       "    </tr>\n",
       "    <tr>\n",
       "      <th>13</th>\n",
       "      <td>3 BHK Apartment in GHR Callisto</td>\n",
       "      <td>Kollur</td>\n",
       "      <td>94.94 L</td>\n",
       "      <td>1775</td>\n",
       "      <td>Under Construction</td>\n",
       "      <td>5,349 / sq ft</td>\n",
       "    </tr>\n",
       "    <tr>\n",
       "      <th>14</th>\n",
       "      <td>2 BHK Apartment in Aavasa Constructions Emerald</td>\n",
       "      <td>Saroor Nagar</td>\n",
       "      <td>85.15 L</td>\n",
       "      <td>1310</td>\n",
       "      <td>Under Construction</td>\n",
       "      <td>6,500 / sq ft</td>\n",
       "    </tr>\n",
       "    <tr>\n",
       "      <th>15</th>\n",
       "      <td>3 BHK Apartment in Sukhii Ubuntu</td>\n",
       "      <td>Nanakramguda</td>\n",
       "      <td>1.44 Cr</td>\n",
       "      <td>1905</td>\n",
       "      <td>Under Construction</td>\n",
       "      <td>7,599 / sq ft</td>\n",
       "    </tr>\n",
       "    <tr>\n",
       "      <th>16</th>\n",
       "      <td>2 BHK Apartment in Risinia The Edge</td>\n",
       "      <td>Pragathi Nagar Kukatpally</td>\n",
       "      <td>68.21 L</td>\n",
       "      <td>1312</td>\n",
       "      <td>Under Construction</td>\n",
       "      <td>5,199 / sq ft</td>\n",
       "    </tr>\n",
       "    <tr>\n",
       "      <th>17</th>\n",
       "      <td>2 BHK Apartment in ASBL Springs</td>\n",
       "      <td>Pocharam</td>\n",
       "      <td>56.85 L</td>\n",
       "      <td>1210</td>\n",
       "      <td>Under Construction</td>\n",
       "      <td>4,699 / sq ft</td>\n",
       "    </tr>\n",
       "    <tr>\n",
       "      <th>18</th>\n",
       "      <td>3 BHK Apartment in Om Sree Brilliance</td>\n",
       "      <td>Sainikpuri</td>\n",
       "      <td>1.34 Cr</td>\n",
       "      <td>2200</td>\n",
       "      <td>Under Construction</td>\n",
       "      <td>6,100 / sq ft</td>\n",
       "    </tr>\n",
       "    <tr>\n",
       "      <th>19</th>\n",
       "      <td>3 BHK Apartment in SVC SVC Indraprastha</td>\n",
       "      <td>Jeedimetla</td>\n",
       "      <td>1.02 Cr</td>\n",
       "      <td>1902</td>\n",
       "      <td>Under Construction</td>\n",
       "      <td>5,400 / sq ft</td>\n",
       "    </tr>\n",
       "  </tbody>\n",
       "</table>\n",
       "</div>"
      ],
      "text/plain": [
       "                                            prop_name   \n",
       "0           3 BHK Apartment in Ecogreen Casa Traimbak  \\\n",
       "1                    4 BHK Villa in Elemental Village   \n",
       "2                 4 BHK Villa in Riddhi Laxman County   \n",
       "3                4 BHK Villa in APR Praveens Hillside   \n",
       "4           4 BHK Villa in Sri GREENTECH O2 Community   \n",
       "5                 4 BHK Villa in Grenstone Siri Elite   \n",
       "6          4 BHK Apartment in Mahaveer Crystal Garden   \n",
       "7                 4 BHK Apartment in Hallmark Treasor   \n",
       "8               Residential Plot in Beyond Icon Homes   \n",
       "9                   2 BHK Apartment in Beams 4 Blocks   \n",
       "10                    3 BHK Apartment in Vajram IXORA   \n",
       "11  4 BHK Villa in IRA Realty Hyderabad Elevate Vi...   \n",
       "12                 3 BHK Apartment in Vasavi Nandanam   \n",
       "13                    3 BHK Apartment in GHR Callisto   \n",
       "14    2 BHK Apartment in Aavasa Constructions Emerald   \n",
       "15                   3 BHK Apartment in Sukhii Ubuntu   \n",
       "16                2 BHK Apartment in Risinia The Edge   \n",
       "17                    2 BHK Apartment in ASBL Springs   \n",
       "18              3 BHK Apartment in Om Sree Brilliance   \n",
       "19            3 BHK Apartment in SVC SVC Indraprastha   \n",
       "\n",
       "                     location     price   size                 val   \n",
       "0           Gundlapochampally   65.98 L  1571   Under Construction  \\\n",
       "1                  Patancheru   1.48 Cr  1930   Under Construction   \n",
       "2                   Tukkuguda   2.99 Cr  4157   Under Construction   \n",
       "3                  Bachupally   4.08 Cr  3400   Under Construction   \n",
       "4            Ramachandrapuram   1.75 Cr  3183   Under Construction   \n",
       "5                 Maheshwaram    1.4 Cr  2701   Under Construction   \n",
       "6                     Attapur   3.52 Cr  4706   Under Construction   \n",
       "7                    Gandipet   4.31 Cr  5080   Under Construction   \n",
       "8                 Sadashivpet      63 L  3150                  New   \n",
       "9                    Kompally   73.34 L  1310   Under Construction   \n",
       "10                 Gopanpally   1.65 Cr  2550   Under Construction   \n",
       "11                Mamidipally   7.35 Cr  6125   Under Construction   \n",
       "12                 Jeedimetla   1.08 Cr  1965   Under Construction   \n",
       "13                     Kollur   94.94 L  1775   Under Construction   \n",
       "14               Saroor Nagar   85.15 L  1310   Under Construction   \n",
       "15               Nanakramguda   1.44 Cr  1905   Under Construction   \n",
       "16  Pragathi Nagar Kukatpally   68.21 L  1312   Under Construction   \n",
       "17                   Pocharam   56.85 L  1210   Under Construction   \n",
       "18                 Sainikpuri   1.34 Cr  2200   Under Construction   \n",
       "19                 Jeedimetla   1.02 Cr  1902   Under Construction   \n",
       "\n",
       "              sqft  \n",
       "0    4,200 / sq ft  \n",
       "1    7,700 / sq ft  \n",
       "2    7,200 / sq ft  \n",
       "3   12,000 / sq ft  \n",
       "4    5,500 / sq ft  \n",
       "5    5,200 / sq ft  \n",
       "6    7,500 / sq ft  \n",
       "7    8,499 / sq ft  \n",
       "8    2,000 / sq ft  \n",
       "9    5,599 / sq ft  \n",
       "10   6,499 / sq ft  \n",
       "11  12,000 / sq ft  \n",
       "12   5,500 / sq ft  \n",
       "13   5,349 / sq ft  \n",
       "14   6,500 / sq ft  \n",
       "15   7,599 / sq ft  \n",
       "16   5,199 / sq ft  \n",
       "17   4,699 / sq ft  \n",
       "18   6,100 / sq ft  \n",
       "19   5,400 / sq ft  "
      ]
     },
     "execution_count": 27,
     "metadata": {},
     "output_type": "execute_result"
    }
   ],
   "source": [
    "data"
   ]
  },
  {
   "cell_type": "code",
   "execution_count": 28,
   "id": "a018cd3c",
   "metadata": {},
   "outputs": [],
   "source": [
    "data.to_csv(\"hyd_apartments.csv\")"
   ]
  },
  {
   "cell_type": "code",
   "execution_count": 30,
   "id": "ad18b5c7",
   "metadata": {},
   "outputs": [
    {
     "name": "stdout",
     "output_type": "stream",
     "text": [
      "https://www.makaan.com/hyderabad-residential-property/buy-property-in-hyderabad-city?page=0\n",
      "https://www.makaan.com/hyderabad-residential-property/buy-property-in-hyderabad-city?page=1\n",
      "https://www.makaan.com/hyderabad-residential-property/buy-property-in-hyderabad-city?page=2\n",
      "https://www.makaan.com/hyderabad-residential-property/buy-property-in-hyderabad-city?page=3\n",
      "https://www.makaan.com/hyderabad-residential-property/buy-property-in-hyderabad-city?page=4\n",
      "https://www.makaan.com/hyderabad-residential-property/buy-property-in-hyderabad-city?page=5\n",
      "https://www.makaan.com/hyderabad-residential-property/buy-property-in-hyderabad-city?page=6\n",
      "https://www.makaan.com/hyderabad-residential-property/buy-property-in-hyderabad-city?page=7\n",
      "https://www.makaan.com/hyderabad-residential-property/buy-property-in-hyderabad-city?page=8\n",
      "https://www.makaan.com/hyderabad-residential-property/buy-property-in-hyderabad-city?page=9\n",
      "https://www.makaan.com/hyderabad-residential-property/buy-property-in-hyderabad-city?page=10\n",
      "https://www.makaan.com/hyderabad-residential-property/buy-property-in-hyderabad-city?page=11\n",
      "https://www.makaan.com/hyderabad-residential-property/buy-property-in-hyderabad-city?page=12\n",
      "https://www.makaan.com/hyderabad-residential-property/buy-property-in-hyderabad-city?page=13\n",
      "https://www.makaan.com/hyderabad-residential-property/buy-property-in-hyderabad-city?page=14\n",
      "https://www.makaan.com/hyderabad-residential-property/buy-property-in-hyderabad-city?page=15\n",
      "https://www.makaan.com/hyderabad-residential-property/buy-property-in-hyderabad-city?page=16\n",
      "https://www.makaan.com/hyderabad-residential-property/buy-property-in-hyderabad-city?page=17\n",
      "https://www.makaan.com/hyderabad-residential-property/buy-property-in-hyderabad-city?page=18\n",
      "https://www.makaan.com/hyderabad-residential-property/buy-property-in-hyderabad-city?page=19\n",
      "https://www.makaan.com/hyderabad-residential-property/buy-property-in-hyderabad-city?page=20\n",
      "https://www.makaan.com/hyderabad-residential-property/buy-property-in-hyderabad-city?page=21\n",
      "https://www.makaan.com/hyderabad-residential-property/buy-property-in-hyderabad-city?page=22\n",
      "https://www.makaan.com/hyderabad-residential-property/buy-property-in-hyderabad-city?page=23\n",
      "https://www.makaan.com/hyderabad-residential-property/buy-property-in-hyderabad-city?page=24\n",
      "https://www.makaan.com/hyderabad-residential-property/buy-property-in-hyderabad-city?page=25\n",
      "https://www.makaan.com/hyderabad-residential-property/buy-property-in-hyderabad-city?page=26\n",
      "https://www.makaan.com/hyderabad-residential-property/buy-property-in-hyderabad-city?page=27\n",
      "https://www.makaan.com/hyderabad-residential-property/buy-property-in-hyderabad-city?page=28\n",
      "https://www.makaan.com/hyderabad-residential-property/buy-property-in-hyderabad-city?page=29\n",
      "https://www.makaan.com/hyderabad-residential-property/buy-property-in-hyderabad-city?page=30\n",
      "https://www.makaan.com/hyderabad-residential-property/buy-property-in-hyderabad-city?page=31\n",
      "https://www.makaan.com/hyderabad-residential-property/buy-property-in-hyderabad-city?page=32\n",
      "https://www.makaan.com/hyderabad-residential-property/buy-property-in-hyderabad-city?page=33\n",
      "https://www.makaan.com/hyderabad-residential-property/buy-property-in-hyderabad-city?page=34\n",
      "https://www.makaan.com/hyderabad-residential-property/buy-property-in-hyderabad-city?page=35\n",
      "https://www.makaan.com/hyderabad-residential-property/buy-property-in-hyderabad-city?page=36\n",
      "https://www.makaan.com/hyderabad-residential-property/buy-property-in-hyderabad-city?page=37\n",
      "https://www.makaan.com/hyderabad-residential-property/buy-property-in-hyderabad-city?page=38\n",
      "https://www.makaan.com/hyderabad-residential-property/buy-property-in-hyderabad-city?page=39\n",
      "https://www.makaan.com/hyderabad-residential-property/buy-property-in-hyderabad-city?page=40\n",
      "https://www.makaan.com/hyderabad-residential-property/buy-property-in-hyderabad-city?page=41\n",
      "https://www.makaan.com/hyderabad-residential-property/buy-property-in-hyderabad-city?page=42\n",
      "https://www.makaan.com/hyderabad-residential-property/buy-property-in-hyderabad-city?page=43\n",
      "https://www.makaan.com/hyderabad-residential-property/buy-property-in-hyderabad-city?page=44\n",
      "https://www.makaan.com/hyderabad-residential-property/buy-property-in-hyderabad-city?page=45\n",
      "https://www.makaan.com/hyderabad-residential-property/buy-property-in-hyderabad-city?page=46\n",
      "https://www.makaan.com/hyderabad-residential-property/buy-property-in-hyderabad-city?page=47\n",
      "https://www.makaan.com/hyderabad-residential-property/buy-property-in-hyderabad-city?page=48\n",
      "https://www.makaan.com/hyderabad-residential-property/buy-property-in-hyderabad-city?page=49\n",
      "https://www.makaan.com/hyderabad-residential-property/buy-property-in-hyderabad-city?page=50\n",
      "https://www.makaan.com/hyderabad-residential-property/buy-property-in-hyderabad-city?page=51\n",
      "https://www.makaan.com/hyderabad-residential-property/buy-property-in-hyderabad-city?page=52\n",
      "https://www.makaan.com/hyderabad-residential-property/buy-property-in-hyderabad-city?page=53\n",
      "https://www.makaan.com/hyderabad-residential-property/buy-property-in-hyderabad-city?page=54\n",
      "https://www.makaan.com/hyderabad-residential-property/buy-property-in-hyderabad-city?page=55\n",
      "https://www.makaan.com/hyderabad-residential-property/buy-property-in-hyderabad-city?page=56\n",
      "https://www.makaan.com/hyderabad-residential-property/buy-property-in-hyderabad-city?page=57\n",
      "https://www.makaan.com/hyderabad-residential-property/buy-property-in-hyderabad-city?page=58\n",
      "https://www.makaan.com/hyderabad-residential-property/buy-property-in-hyderabad-city?page=59\n",
      "https://www.makaan.com/hyderabad-residential-property/buy-property-in-hyderabad-city?page=60\n",
      "https://www.makaan.com/hyderabad-residential-property/buy-property-in-hyderabad-city?page=61\n",
      "https://www.makaan.com/hyderabad-residential-property/buy-property-in-hyderabad-city?page=62\n",
      "https://www.makaan.com/hyderabad-residential-property/buy-property-in-hyderabad-city?page=63\n",
      "https://www.makaan.com/hyderabad-residential-property/buy-property-in-hyderabad-city?page=64\n",
      "https://www.makaan.com/hyderabad-residential-property/buy-property-in-hyderabad-city?page=65\n",
      "https://www.makaan.com/hyderabad-residential-property/buy-property-in-hyderabad-city?page=66\n",
      "https://www.makaan.com/hyderabad-residential-property/buy-property-in-hyderabad-city?page=67\n",
      "https://www.makaan.com/hyderabad-residential-property/buy-property-in-hyderabad-city?page=68\n",
      "https://www.makaan.com/hyderabad-residential-property/buy-property-in-hyderabad-city?page=69\n",
      "https://www.makaan.com/hyderabad-residential-property/buy-property-in-hyderabad-city?page=70\n",
      "https://www.makaan.com/hyderabad-residential-property/buy-property-in-hyderabad-city?page=71\n",
      "https://www.makaan.com/hyderabad-residential-property/buy-property-in-hyderabad-city?page=72\n",
      "https://www.makaan.com/hyderabad-residential-property/buy-property-in-hyderabad-city?page=73\n",
      "https://www.makaan.com/hyderabad-residential-property/buy-property-in-hyderabad-city?page=74\n",
      "https://www.makaan.com/hyderabad-residential-property/buy-property-in-hyderabad-city?page=75\n",
      "https://www.makaan.com/hyderabad-residential-property/buy-property-in-hyderabad-city?page=76\n",
      "https://www.makaan.com/hyderabad-residential-property/buy-property-in-hyderabad-city?page=77\n",
      "https://www.makaan.com/hyderabad-residential-property/buy-property-in-hyderabad-city?page=78\n",
      "https://www.makaan.com/hyderabad-residential-property/buy-property-in-hyderabad-city?page=79\n",
      "https://www.makaan.com/hyderabad-residential-property/buy-property-in-hyderabad-city?page=80\n",
      "https://www.makaan.com/hyderabad-residential-property/buy-property-in-hyderabad-city?page=81\n",
      "https://www.makaan.com/hyderabad-residential-property/buy-property-in-hyderabad-city?page=82\n",
      "https://www.makaan.com/hyderabad-residential-property/buy-property-in-hyderabad-city?page=83\n",
      "https://www.makaan.com/hyderabad-residential-property/buy-property-in-hyderabad-city?page=84\n",
      "https://www.makaan.com/hyderabad-residential-property/buy-property-in-hyderabad-city?page=85\n",
      "https://www.makaan.com/hyderabad-residential-property/buy-property-in-hyderabad-city?page=86\n",
      "https://www.makaan.com/hyderabad-residential-property/buy-property-in-hyderabad-city?page=87\n",
      "https://www.makaan.com/hyderabad-residential-property/buy-property-in-hyderabad-city?page=88\n",
      "https://www.makaan.com/hyderabad-residential-property/buy-property-in-hyderabad-city?page=89\n",
      "https://www.makaan.com/hyderabad-residential-property/buy-property-in-hyderabad-city?page=90\n",
      "https://www.makaan.com/hyderabad-residential-property/buy-property-in-hyderabad-city?page=91\n",
      "https://www.makaan.com/hyderabad-residential-property/buy-property-in-hyderabad-city?page=92\n",
      "https://www.makaan.com/hyderabad-residential-property/buy-property-in-hyderabad-city?page=93\n",
      "https://www.makaan.com/hyderabad-residential-property/buy-property-in-hyderabad-city?page=94\n",
      "https://www.makaan.com/hyderabad-residential-property/buy-property-in-hyderabad-city?page=95\n",
      "https://www.makaan.com/hyderabad-residential-property/buy-property-in-hyderabad-city?page=96\n",
      "https://www.makaan.com/hyderabad-residential-property/buy-property-in-hyderabad-city?page=97\n",
      "https://www.makaan.com/hyderabad-residential-property/buy-property-in-hyderabad-city?page=98\n",
      "https://www.makaan.com/hyderabad-residential-property/buy-property-in-hyderabad-city?page=99\n",
      "https://www.makaan.com/hyderabad-residential-property/buy-property-in-hyderabad-city?page=100\n",
      "https://www.makaan.com/hyderabad-residential-property/buy-property-in-hyderabad-city?page=101\n",
      "https://www.makaan.com/hyderabad-residential-property/buy-property-in-hyderabad-city?page=102\n",
      "https://www.makaan.com/hyderabad-residential-property/buy-property-in-hyderabad-city?page=103\n",
      "https://www.makaan.com/hyderabad-residential-property/buy-property-in-hyderabad-city?page=104\n",
      "https://www.makaan.com/hyderabad-residential-property/buy-property-in-hyderabad-city?page=105\n",
      "https://www.makaan.com/hyderabad-residential-property/buy-property-in-hyderabad-city?page=106\n",
      "https://www.makaan.com/hyderabad-residential-property/buy-property-in-hyderabad-city?page=107\n",
      "https://www.makaan.com/hyderabad-residential-property/buy-property-in-hyderabad-city?page=108\n",
      "https://www.makaan.com/hyderabad-residential-property/buy-property-in-hyderabad-city?page=109\n",
      "https://www.makaan.com/hyderabad-residential-property/buy-property-in-hyderabad-city?page=110\n",
      "https://www.makaan.com/hyderabad-residential-property/buy-property-in-hyderabad-city?page=111\n",
      "https://www.makaan.com/hyderabad-residential-property/buy-property-in-hyderabad-city?page=112\n",
      "https://www.makaan.com/hyderabad-residential-property/buy-property-in-hyderabad-city?page=113\n",
      "https://www.makaan.com/hyderabad-residential-property/buy-property-in-hyderabad-city?page=114\n",
      "https://www.makaan.com/hyderabad-residential-property/buy-property-in-hyderabad-city?page=115\n",
      "https://www.makaan.com/hyderabad-residential-property/buy-property-in-hyderabad-city?page=116\n",
      "https://www.makaan.com/hyderabad-residential-property/buy-property-in-hyderabad-city?page=117\n",
      "https://www.makaan.com/hyderabad-residential-property/buy-property-in-hyderabad-city?page=118\n",
      "https://www.makaan.com/hyderabad-residential-property/buy-property-in-hyderabad-city?page=119\n",
      "https://www.makaan.com/hyderabad-residential-property/buy-property-in-hyderabad-city?page=120\n",
      "https://www.makaan.com/hyderabad-residential-property/buy-property-in-hyderabad-city?page=121\n",
      "https://www.makaan.com/hyderabad-residential-property/buy-property-in-hyderabad-city?page=122\n",
      "https://www.makaan.com/hyderabad-residential-property/buy-property-in-hyderabad-city?page=123\n",
      "https://www.makaan.com/hyderabad-residential-property/buy-property-in-hyderabad-city?page=124\n",
      "https://www.makaan.com/hyderabad-residential-property/buy-property-in-hyderabad-city?page=125\n",
      "https://www.makaan.com/hyderabad-residential-property/buy-property-in-hyderabad-city?page=126\n",
      "https://www.makaan.com/hyderabad-residential-property/buy-property-in-hyderabad-city?page=127\n",
      "https://www.makaan.com/hyderabad-residential-property/buy-property-in-hyderabad-city?page=128\n",
      "https://www.makaan.com/hyderabad-residential-property/buy-property-in-hyderabad-city?page=129\n",
      "https://www.makaan.com/hyderabad-residential-property/buy-property-in-hyderabad-city?page=130\n",
      "https://www.makaan.com/hyderabad-residential-property/buy-property-in-hyderabad-city?page=131\n",
      "https://www.makaan.com/hyderabad-residential-property/buy-property-in-hyderabad-city?page=132\n",
      "https://www.makaan.com/hyderabad-residential-property/buy-property-in-hyderabad-city?page=133\n",
      "https://www.makaan.com/hyderabad-residential-property/buy-property-in-hyderabad-city?page=134\n",
      "https://www.makaan.com/hyderabad-residential-property/buy-property-in-hyderabad-city?page=135\n",
      "https://www.makaan.com/hyderabad-residential-property/buy-property-in-hyderabad-city?page=136\n",
      "https://www.makaan.com/hyderabad-residential-property/buy-property-in-hyderabad-city?page=137\n",
      "https://www.makaan.com/hyderabad-residential-property/buy-property-in-hyderabad-city?page=138\n",
      "https://www.makaan.com/hyderabad-residential-property/buy-property-in-hyderabad-city?page=139\n",
      "https://www.makaan.com/hyderabad-residential-property/buy-property-in-hyderabad-city?page=140\n",
      "https://www.makaan.com/hyderabad-residential-property/buy-property-in-hyderabad-city?page=141\n",
      "https://www.makaan.com/hyderabad-residential-property/buy-property-in-hyderabad-city?page=142\n",
      "https://www.makaan.com/hyderabad-residential-property/buy-property-in-hyderabad-city?page=143\n",
      "https://www.makaan.com/hyderabad-residential-property/buy-property-in-hyderabad-city?page=144\n",
      "https://www.makaan.com/hyderabad-residential-property/buy-property-in-hyderabad-city?page=145\n",
      "https://www.makaan.com/hyderabad-residential-property/buy-property-in-hyderabad-city?page=146\n",
      "https://www.makaan.com/hyderabad-residential-property/buy-property-in-hyderabad-city?page=147\n",
      "https://www.makaan.com/hyderabad-residential-property/buy-property-in-hyderabad-city?page=148\n",
      "https://www.makaan.com/hyderabad-residential-property/buy-property-in-hyderabad-city?page=149\n",
      "https://www.makaan.com/hyderabad-residential-property/buy-property-in-hyderabad-city?page=150\n",
      "https://www.makaan.com/hyderabad-residential-property/buy-property-in-hyderabad-city?page=151\n",
      "https://www.makaan.com/hyderabad-residential-property/buy-property-in-hyderabad-city?page=152\n",
      "https://www.makaan.com/hyderabad-residential-property/buy-property-in-hyderabad-city?page=153\n",
      "https://www.makaan.com/hyderabad-residential-property/buy-property-in-hyderabad-city?page=154\n",
      "https://www.makaan.com/hyderabad-residential-property/buy-property-in-hyderabad-city?page=155\n",
      "https://www.makaan.com/hyderabad-residential-property/buy-property-in-hyderabad-city?page=156\n",
      "https://www.makaan.com/hyderabad-residential-property/buy-property-in-hyderabad-city?page=157\n",
      "https://www.makaan.com/hyderabad-residential-property/buy-property-in-hyderabad-city?page=158\n",
      "https://www.makaan.com/hyderabad-residential-property/buy-property-in-hyderabad-city?page=159\n",
      "https://www.makaan.com/hyderabad-residential-property/buy-property-in-hyderabad-city?page=160\n",
      "https://www.makaan.com/hyderabad-residential-property/buy-property-in-hyderabad-city?page=161\n",
      "https://www.makaan.com/hyderabad-residential-property/buy-property-in-hyderabad-city?page=162\n",
      "https://www.makaan.com/hyderabad-residential-property/buy-property-in-hyderabad-city?page=163\n",
      "https://www.makaan.com/hyderabad-residential-property/buy-property-in-hyderabad-city?page=164\n",
      "https://www.makaan.com/hyderabad-residential-property/buy-property-in-hyderabad-city?page=165\n",
      "https://www.makaan.com/hyderabad-residential-property/buy-property-in-hyderabad-city?page=166\n",
      "https://www.makaan.com/hyderabad-residential-property/buy-property-in-hyderabad-city?page=167\n",
      "https://www.makaan.com/hyderabad-residential-property/buy-property-in-hyderabad-city?page=168\n",
      "https://www.makaan.com/hyderabad-residential-property/buy-property-in-hyderabad-city?page=169\n",
      "https://www.makaan.com/hyderabad-residential-property/buy-property-in-hyderabad-city?page=170\n",
      "https://www.makaan.com/hyderabad-residential-property/buy-property-in-hyderabad-city?page=171\n",
      "https://www.makaan.com/hyderabad-residential-property/buy-property-in-hyderabad-city?page=172\n",
      "https://www.makaan.com/hyderabad-residential-property/buy-property-in-hyderabad-city?page=173\n",
      "https://www.makaan.com/hyderabad-residential-property/buy-property-in-hyderabad-city?page=174\n",
      "https://www.makaan.com/hyderabad-residential-property/buy-property-in-hyderabad-city?page=175\n",
      "https://www.makaan.com/hyderabad-residential-property/buy-property-in-hyderabad-city?page=176\n",
      "https://www.makaan.com/hyderabad-residential-property/buy-property-in-hyderabad-city?page=177\n",
      "https://www.makaan.com/hyderabad-residential-property/buy-property-in-hyderabad-city?page=178\n",
      "https://www.makaan.com/hyderabad-residential-property/buy-property-in-hyderabad-city?page=179\n",
      "https://www.makaan.com/hyderabad-residential-property/buy-property-in-hyderabad-city?page=180\n",
      "https://www.makaan.com/hyderabad-residential-property/buy-property-in-hyderabad-city?page=181\n",
      "https://www.makaan.com/hyderabad-residential-property/buy-property-in-hyderabad-city?page=182\n",
      "https://www.makaan.com/hyderabad-residential-property/buy-property-in-hyderabad-city?page=183\n",
      "https://www.makaan.com/hyderabad-residential-property/buy-property-in-hyderabad-city?page=184\n",
      "https://www.makaan.com/hyderabad-residential-property/buy-property-in-hyderabad-city?page=185\n",
      "https://www.makaan.com/hyderabad-residential-property/buy-property-in-hyderabad-city?page=186\n",
      "https://www.makaan.com/hyderabad-residential-property/buy-property-in-hyderabad-city?page=187\n",
      "https://www.makaan.com/hyderabad-residential-property/buy-property-in-hyderabad-city?page=188\n",
      "https://www.makaan.com/hyderabad-residential-property/buy-property-in-hyderabad-city?page=189\n",
      "https://www.makaan.com/hyderabad-residential-property/buy-property-in-hyderabad-city?page=190\n",
      "https://www.makaan.com/hyderabad-residential-property/buy-property-in-hyderabad-city?page=191\n",
      "https://www.makaan.com/hyderabad-residential-property/buy-property-in-hyderabad-city?page=192\n",
      "https://www.makaan.com/hyderabad-residential-property/buy-property-in-hyderabad-city?page=193\n",
      "https://www.makaan.com/hyderabad-residential-property/buy-property-in-hyderabad-city?page=194\n",
      "https://www.makaan.com/hyderabad-residential-property/buy-property-in-hyderabad-city?page=195\n",
      "https://www.makaan.com/hyderabad-residential-property/buy-property-in-hyderabad-city?page=196\n",
      "https://www.makaan.com/hyderabad-residential-property/buy-property-in-hyderabad-city?page=197\n",
      "https://www.makaan.com/hyderabad-residential-property/buy-property-in-hyderabad-city?page=198\n",
      "https://www.makaan.com/hyderabad-residential-property/buy-property-in-hyderabad-city?page=199\n",
      "https://www.makaan.com/hyderabad-residential-property/buy-property-in-hyderabad-city?page=200\n",
      "https://www.makaan.com/hyderabad-residential-property/buy-property-in-hyderabad-city?page=201\n",
      "https://www.makaan.com/hyderabad-residential-property/buy-property-in-hyderabad-city?page=202\n",
      "https://www.makaan.com/hyderabad-residential-property/buy-property-in-hyderabad-city?page=203\n",
      "https://www.makaan.com/hyderabad-residential-property/buy-property-in-hyderabad-city?page=204\n",
      "https://www.makaan.com/hyderabad-residential-property/buy-property-in-hyderabad-city?page=205\n",
      "https://www.makaan.com/hyderabad-residential-property/buy-property-in-hyderabad-city?page=206\n",
      "https://www.makaan.com/hyderabad-residential-property/buy-property-in-hyderabad-city?page=207\n",
      "https://www.makaan.com/hyderabad-residential-property/buy-property-in-hyderabad-city?page=208\n",
      "https://www.makaan.com/hyderabad-residential-property/buy-property-in-hyderabad-city?page=209\n",
      "https://www.makaan.com/hyderabad-residential-property/buy-property-in-hyderabad-city?page=210\n",
      "https://www.makaan.com/hyderabad-residential-property/buy-property-in-hyderabad-city?page=211\n",
      "https://www.makaan.com/hyderabad-residential-property/buy-property-in-hyderabad-city?page=212\n",
      "https://www.makaan.com/hyderabad-residential-property/buy-property-in-hyderabad-city?page=213\n",
      "https://www.makaan.com/hyderabad-residential-property/buy-property-in-hyderabad-city?page=214\n",
      "https://www.makaan.com/hyderabad-residential-property/buy-property-in-hyderabad-city?page=215\n",
      "https://www.makaan.com/hyderabad-residential-property/buy-property-in-hyderabad-city?page=216\n",
      "https://www.makaan.com/hyderabad-residential-property/buy-property-in-hyderabad-city?page=217\n",
      "https://www.makaan.com/hyderabad-residential-property/buy-property-in-hyderabad-city?page=218\n",
      "https://www.makaan.com/hyderabad-residential-property/buy-property-in-hyderabad-city?page=219\n",
      "https://www.makaan.com/hyderabad-residential-property/buy-property-in-hyderabad-city?page=220\n",
      "https://www.makaan.com/hyderabad-residential-property/buy-property-in-hyderabad-city?page=221\n",
      "https://www.makaan.com/hyderabad-residential-property/buy-property-in-hyderabad-city?page=222\n",
      "https://www.makaan.com/hyderabad-residential-property/buy-property-in-hyderabad-city?page=223\n",
      "https://www.makaan.com/hyderabad-residential-property/buy-property-in-hyderabad-city?page=224\n",
      "https://www.makaan.com/hyderabad-residential-property/buy-property-in-hyderabad-city?page=225\n",
      "https://www.makaan.com/hyderabad-residential-property/buy-property-in-hyderabad-city?page=226\n",
      "https://www.makaan.com/hyderabad-residential-property/buy-property-in-hyderabad-city?page=227\n",
      "https://www.makaan.com/hyderabad-residential-property/buy-property-in-hyderabad-city?page=228\n",
      "https://www.makaan.com/hyderabad-residential-property/buy-property-in-hyderabad-city?page=229\n",
      "https://www.makaan.com/hyderabad-residential-property/buy-property-in-hyderabad-city?page=230\n",
      "https://www.makaan.com/hyderabad-residential-property/buy-property-in-hyderabad-city?page=231\n",
      "https://www.makaan.com/hyderabad-residential-property/buy-property-in-hyderabad-city?page=232\n",
      "https://www.makaan.com/hyderabad-residential-property/buy-property-in-hyderabad-city?page=233\n",
      "https://www.makaan.com/hyderabad-residential-property/buy-property-in-hyderabad-city?page=234\n",
      "https://www.makaan.com/hyderabad-residential-property/buy-property-in-hyderabad-city?page=235\n",
      "https://www.makaan.com/hyderabad-residential-property/buy-property-in-hyderabad-city?page=236\n",
      "https://www.makaan.com/hyderabad-residential-property/buy-property-in-hyderabad-city?page=237\n",
      "https://www.makaan.com/hyderabad-residential-property/buy-property-in-hyderabad-city?page=238\n",
      "https://www.makaan.com/hyderabad-residential-property/buy-property-in-hyderabad-city?page=239\n",
      "https://www.makaan.com/hyderabad-residential-property/buy-property-in-hyderabad-city?page=240\n",
      "https://www.makaan.com/hyderabad-residential-property/buy-property-in-hyderabad-city?page=241\n",
      "https://www.makaan.com/hyderabad-residential-property/buy-property-in-hyderabad-city?page=242\n",
      "https://www.makaan.com/hyderabad-residential-property/buy-property-in-hyderabad-city?page=243\n",
      "https://www.makaan.com/hyderabad-residential-property/buy-property-in-hyderabad-city?page=244\n",
      "https://www.makaan.com/hyderabad-residential-property/buy-property-in-hyderabad-city?page=245\n",
      "https://www.makaan.com/hyderabad-residential-property/buy-property-in-hyderabad-city?page=246\n",
      "https://www.makaan.com/hyderabad-residential-property/buy-property-in-hyderabad-city?page=247\n",
      "https://www.makaan.com/hyderabad-residential-property/buy-property-in-hyderabad-city?page=248\n",
      "https://www.makaan.com/hyderabad-residential-property/buy-property-in-hyderabad-city?page=249\n",
      "https://www.makaan.com/hyderabad-residential-property/buy-property-in-hyderabad-city?page=250\n",
      "https://www.makaan.com/hyderabad-residential-property/buy-property-in-hyderabad-city?page=251\n",
      "https://www.makaan.com/hyderabad-residential-property/buy-property-in-hyderabad-city?page=252\n",
      "https://www.makaan.com/hyderabad-residential-property/buy-property-in-hyderabad-city?page=253\n",
      "https://www.makaan.com/hyderabad-residential-property/buy-property-in-hyderabad-city?page=254\n",
      "https://www.makaan.com/hyderabad-residential-property/buy-property-in-hyderabad-city?page=255\n",
      "https://www.makaan.com/hyderabad-residential-property/buy-property-in-hyderabad-city?page=256\n",
      "https://www.makaan.com/hyderabad-residential-property/buy-property-in-hyderabad-city?page=257\n",
      "https://www.makaan.com/hyderabad-residential-property/buy-property-in-hyderabad-city?page=258\n",
      "https://www.makaan.com/hyderabad-residential-property/buy-property-in-hyderabad-city?page=259\n",
      "https://www.makaan.com/hyderabad-residential-property/buy-property-in-hyderabad-city?page=260\n",
      "https://www.makaan.com/hyderabad-residential-property/buy-property-in-hyderabad-city?page=261\n",
      "https://www.makaan.com/hyderabad-residential-property/buy-property-in-hyderabad-city?page=262\n",
      "https://www.makaan.com/hyderabad-residential-property/buy-property-in-hyderabad-city?page=263\n",
      "https://www.makaan.com/hyderabad-residential-property/buy-property-in-hyderabad-city?page=264\n",
      "https://www.makaan.com/hyderabad-residential-property/buy-property-in-hyderabad-city?page=265\n",
      "https://www.makaan.com/hyderabad-residential-property/buy-property-in-hyderabad-city?page=266\n",
      "https://www.makaan.com/hyderabad-residential-property/buy-property-in-hyderabad-city?page=267\n",
      "https://www.makaan.com/hyderabad-residential-property/buy-property-in-hyderabad-city?page=268\n",
      "https://www.makaan.com/hyderabad-residential-property/buy-property-in-hyderabad-city?page=269\n",
      "https://www.makaan.com/hyderabad-residential-property/buy-property-in-hyderabad-city?page=270\n",
      "https://www.makaan.com/hyderabad-residential-property/buy-property-in-hyderabad-city?page=271\n",
      "https://www.makaan.com/hyderabad-residential-property/buy-property-in-hyderabad-city?page=272\n",
      "https://www.makaan.com/hyderabad-residential-property/buy-property-in-hyderabad-city?page=273\n",
      "https://www.makaan.com/hyderabad-residential-property/buy-property-in-hyderabad-city?page=274\n",
      "https://www.makaan.com/hyderabad-residential-property/buy-property-in-hyderabad-city?page=275\n",
      "https://www.makaan.com/hyderabad-residential-property/buy-property-in-hyderabad-city?page=276\n",
      "https://www.makaan.com/hyderabad-residential-property/buy-property-in-hyderabad-city?page=277\n",
      "https://www.makaan.com/hyderabad-residential-property/buy-property-in-hyderabad-city?page=278\n",
      "https://www.makaan.com/hyderabad-residential-property/buy-property-in-hyderabad-city?page=279\n",
      "https://www.makaan.com/hyderabad-residential-property/buy-property-in-hyderabad-city?page=280\n",
      "https://www.makaan.com/hyderabad-residential-property/buy-property-in-hyderabad-city?page=281\n"
     ]
    }
   ],
   "source": [
    "base_url=\"https://www.makaan.com/hyderabad-residential-property/buy-property-in-hyderabad-city?page=\"\n",
    "for i in range(282):\n",
    "    print(base_url+str(i))"
   ]
  },
  {
   "cell_type": "code",
   "execution_count": null,
   "id": "3f1a1042",
   "metadata": {},
   "outputs": [],
   "source": []
  }
 ],
 "metadata": {
  "kernelspec": {
   "display_name": "Python 3 (ipykernel)",
   "language": "python",
   "name": "python3"
  },
  "language_info": {
   "codemirror_mode": {
    "name": "ipython",
    "version": 3
   },
   "file_extension": ".py",
   "mimetype": "text/x-python",
   "name": "python",
   "nbconvert_exporter": "python",
   "pygments_lexer": "ipython3",
   "version": "3.11.1"
  }
 },
 "nbformat": 4,
 "nbformat_minor": 5
}
